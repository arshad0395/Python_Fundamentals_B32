{
 "cells": [
  {
   "cell_type": "code",
   "execution_count": null,
   "metadata": {},
   "outputs": [],
   "source": [
    "Adding whitespaces to Strings.."
   ]
  },
  {
   "cell_type": "code",
   "execution_count": 1,
   "metadata": {},
   "outputs": [
    {
     "name": "stdout",
     "output_type": "stream",
     "text": [
      "Favourite Languages: PythonCC++PascalJavaRuby\n"
     ]
    }
   ],
   "source": [
    "print('Favourite Languages: PythonCC++PascalJavaRuby')"
   ]
  },
  {
   "cell_type": "code",
   "execution_count": 2,
   "metadata": {},
   "outputs": [
    {
     "name": "stdout",
     "output_type": "stream",
     "text": [
      "Favourite Languages: \n",
      "Python\n",
      "C\n",
      "C++\n",
      "Pascal\n",
      "Java\n",
      "Ruby\n"
     ]
    }
   ],
   "source": [
    "print('Favourite Languages: \\nPython\\nC\\nC++\\nPascal\\nJava\\nRuby')   # \\n ---> new line delimiter"
   ]
  },
  {
   "cell_type": "code",
   "execution_count": 3,
   "metadata": {},
   "outputs": [
    {
     "name": "stdout",
     "output_type": "stream",
     "text": [
      "Favourite Languages: \n",
      "Python\n",
      "\tC\n",
      "\tC++\n",
      "\tPascal\n",
      "\tJava\n",
      "\tRuby\n"
     ]
    }
   ],
   "source": [
    "print('Favourite Languages: \\nPython\\n\\tC\\n\\tC++\\n\\tPascal\\n\\tJava\\n\\tRuby')   # \\t ---> tab delimiter"
   ]
  },
  {
   "cell_type": "code",
   "execution_count": 4,
   "metadata": {},
   "outputs": [
    {
     "name": "stdout",
     "output_type": "stream",
     "text": [
      "Favourite Languages: \n",
      "\tPython\n",
      "\tC\n",
      "\tC++\n",
      "\tPascal\n",
      "\tJava\n",
      "\tRuby\n"
     ]
    }
   ],
   "source": [
    "print('Favourite Languages: \\n\\tPython\\n\\tC\\n\\tC++\\n\\tPascal\\n\\tJava\\n\\tRuby')"
   ]
  },
  {
   "cell_type": "code",
   "execution_count": null,
   "metadata": {},
   "outputs": [],
   "source": [
    "How to remove white spaces in Python"
   ]
  },
  {
   "cell_type": "code",
   "execution_count": 5,
   "metadata": {},
   "outputs": [
    {
     "name": "stdout",
     "output_type": "stream",
     "text": [
      "    JAVA\n"
     ]
    }
   ],
   "source": [
    "x = '    JAVA'\n",
    "print(x)"
   ]
  },
  {
   "cell_type": "code",
   "execution_count": 6,
   "metadata": {},
   "outputs": [
    {
     "data": {
      "text/plain": [
       "'JAVA'"
      ]
     },
     "execution_count": 6,
     "metadata": {},
     "output_type": "execute_result"
    }
   ],
   "source": [
    "x.lstrip()                     #lstrip() ---> eliminate white spaces at left end"
   ]
  },
  {
   "cell_type": "code",
   "execution_count": 7,
   "metadata": {},
   "outputs": [
    {
     "name": "stdout",
     "output_type": "stream",
     "text": [
      "JAVA    \n"
     ]
    }
   ],
   "source": [
    "y = 'JAVA    '\n",
    "print(y)"
   ]
  },
  {
   "cell_type": "code",
   "execution_count": 8,
   "metadata": {},
   "outputs": [
    {
     "data": {
      "text/plain": [
       "'JAVA'"
      ]
     },
     "execution_count": 8,
     "metadata": {},
     "output_type": "execute_result"
    }
   ],
   "source": [
    "y.rstrip()                     # rstrip() ---> eliminate white spaces at right end"
   ]
  },
  {
   "cell_type": "code",
   "execution_count": 9,
   "metadata": {},
   "outputs": [
    {
     "data": {
      "text/plain": [
       "'JAVA'"
      ]
     },
     "execution_count": 9,
     "metadata": {},
     "output_type": "execute_result"
    }
   ],
   "source": [
    "z = '    JAVA    '\n",
    "z.strip()                        # strip() ---> 1. search operation, 2. eliminate white spaces"
   ]
  },
  {
   "cell_type": "code",
   "execution_count": null,
   "metadata": {},
   "outputs": [],
   "source": [
    "Introduction to List datatypes:-"
   ]
  },
  {
   "cell_type": "code",
   "execution_count": null,
   "metadata": {},
   "outputs": [],
   "source": [
    "Defination: A list is a collection of items in a particular order\n",
    "    classification: Mutable datatype\n",
    "        How to declare / define a list ----> []"
   ]
  },
  {
   "cell_type": "code",
   "execution_count": 10,
   "metadata": {},
   "outputs": [
    {
     "name": "stdout",
     "output_type": "stream",
     "text": [
      "['Kerala', 'Tamil nadu', 'Karnataka', 'Telangana', 'Andra Pradesh']\n"
     ]
    }
   ],
   "source": [
    "indianstates = ['Kerala', 'Tamil nadu', 'Karnataka', 'Telangana', 'Andra Pradesh']\n",
    "print(indianstates)"
   ]
  },
  {
   "cell_type": "code",
   "execution_count": 11,
   "metadata": {},
   "outputs": [
    {
     "data": {
      "text/plain": [
       "list"
      ]
     },
     "execution_count": 11,
     "metadata": {},
     "output_type": "execute_result"
    }
   ],
   "source": [
    "type(indianstates)"
   ]
  },
  {
   "cell_type": "code",
   "execution_count": null,
   "metadata": {},
   "outputs": [],
   "source": [
    "Concept of indexing..\n",
    "The order of list is maintained by Indexing...\n",
    "it starts from 0, 1, 2, 3....."
   ]
  },
  {
   "cell_type": "code",
   "execution_count": 12,
   "metadata": {},
   "outputs": [
    {
     "name": "stdout",
     "output_type": "stream",
     "text": [
      "Telangana\n"
     ]
    }
   ],
   "source": [
    "# Access Telangana from above List\n",
    "print(indianstates[3])"
   ]
  },
  {
   "cell_type": "code",
   "execution_count": 13,
   "metadata": {},
   "outputs": [
    {
     "name": "stdout",
     "output_type": "stream",
     "text": [
      "TELANGANA\n"
     ]
    }
   ],
   "source": [
    "print(indianstates[3].upper())"
   ]
  },
  {
   "cell_type": "code",
   "execution_count": 14,
   "metadata": {},
   "outputs": [
    {
     "name": "stdout",
     "output_type": "stream",
     "text": [
      "['Kerala', 'Tamil nadu', 'Karnataka', 'Telangana', 'Andra Pradesh', 'Maharashtra']\n"
     ]
    }
   ],
   "source": [
    "# Add new elements to List\n",
    "indianstates.append('Maharashtra')              # append() always adds element at last place (end)..\n",
    "print(indianstates)"
   ]
  },
  {
   "cell_type": "code",
   "execution_count": null,
   "metadata": {},
   "outputs": [],
   "source": []
  }
 ],
 "metadata": {
  "kernelspec": {
   "display_name": "Python 3",
   "language": "python",
   "name": "python3"
  },
  "language_info": {
   "codemirror_mode": {
    "name": "ipython",
    "version": 3
   },
   "file_extension": ".py",
   "mimetype": "text/x-python",
   "name": "python",
   "nbconvert_exporter": "python",
   "pygments_lexer": "ipython3",
   "version": "3.8.5"
  }
 },
 "nbformat": 4,
 "nbformat_minor": 4
}
